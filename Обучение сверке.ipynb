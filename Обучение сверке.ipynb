{
 "cells": [
  {
   "cell_type": "code",
   "execution_count": 1,
   "metadata": {},
   "outputs": [
    {
     "name": "stderr",
     "output_type": "stream",
     "text": [
      "Using TensorFlow backend.\n"
     ]
    }
   ],
   "source": [
    "import numpy as np\n",
    "\n",
    "import cv2\n",
    "\n",
    "import keras, keras.layers as L\n",
    "import tensorflow as tf\n",
    "\n",
    "import glob\n",
    "import ntpath\n",
    "\n",
    "from matplotlib import pyplot as plt"
   ]
  },
  {
   "cell_type": "code",
   "execution_count": 2,
   "metadata": {
    "collapsed": true
   },
   "outputs": [],
   "source": [
    "from collections import Counter"
   ]
  },
  {
   "cell_type": "code",
   "execution_count": 3,
   "metadata": {
    "collapsed": true
   },
   "outputs": [],
   "source": [
    "%matplotlib notebook"
   ]
  },
  {
   "cell_type": "code",
   "execution_count": 33,
   "metadata": {},
   "outputs": [],
   "source": [
    "config = tf.ConfigProto( device_count = {'GPU': 0 , 'CPU': 8} ) \n",
    "sess = tf.Session(config=config) \n",
    "keras.backend.set_session(sess)"
   ]
  },
  {
   "cell_type": "code",
   "execution_count": 5,
   "metadata": {
    "collapsed": true
   },
   "outputs": [],
   "source": [
    "path = r'C:/Users/mkotyushev/Documents/z/'\n",
    "apparel_type = r\"outwear/\""
   ]
  },
  {
   "cell_type": "code",
   "execution_count": 6,
   "metadata": {
    "collapsed": true
   },
   "outputs": [],
   "source": [
    "# def read_apparel(path, kp_number=128):\n",
    "#     image_1_len = 840\n",
    "#     image_0_len = 560\n",
    "#     features = []\n",
    "#     names = []\n",
    "\n",
    "#     for filename in glob.glob(path + \"*\"):\n",
    "#     #     print(ntpath.basename(filename).split(\"_\")[0])\n",
    "#         img1 = cv2.imread(filename, 0)\n",
    "#         kaze = cv2.KAZE_create()\n",
    "#         kp1, des1 = kaze.detectAndCompute(img1, None)\n",
    "\n",
    "#         single_kp_features = []\n",
    "#         for i in range(len(kp1)):\n",
    "#                 new1 =  [\n",
    "#                     kp1[i].response*10,\n",
    "#                         kp1[i].pt[0]/image_0_len,\n",
    "#                         kp1[i].pt[1]/image_1_len,\n",
    "#                         kp1[i].size/image_0_len,\n",
    "#                         kp1[i].angle/360,\n",
    "#                         kp1[i].octave/3, \n",
    "#                         kp1[i].class_id/14,\n",
    "\n",
    "#                 ] + des1[i].tolist() # + [int(ntpath.basename(filename).split(\"_\")[0])]\n",
    "#                 single_kp_features.append(new1)\n",
    "#         print(filename)\n",
    "#         features.append(\n",
    "#             np.resize(\n",
    "#                     np.array(\n",
    "#                         single_kp_features)[\n",
    "#                         np.array(\n",
    "#                             single_kp_features)\n",
    "#                         [:,0]\n",
    "#                         .argsort()\n",
    "#                  ],(kp_number, 71)\n",
    "#             )\n",
    "#         )\n",
    "#         names.append(int(ntpath.basename(filename).split(\"_\")[0]))\n",
    "#     return features, names"
   ]
  },
  {
   "cell_type": "code",
   "execution_count": 7,
   "metadata": {
    "collapsed": true
   },
   "outputs": [],
   "source": [
    "def read_apparel(path, kp_number=64):\n",
    "    image_1_len = 840\n",
    "    image_0_len = 560\n",
    "    features = []\n",
    "    names = []\n",
    "    kaze = cv2.KAZE_create()\n",
    "\n",
    "    for filename in glob.glob(path + \"*\"):\n",
    "    #     print(ntpath.basename(filename).split(\"_\")[0])\n",
    "        img1 = cv2.imread(filename, 0)\n",
    "        \n",
    "        kp1, des1 = kaze.detectAndCompute(img1, None)\n",
    "        if len(kp1): \n",
    "            single_kp_features = []\n",
    "            for i in range(len(kp1)):\n",
    "                    new1 =  [\n",
    "                        kp1[i].response*10,\n",
    "                            kp1[i].pt[0]/image_0_len,\n",
    "                            kp1[i].pt[1]/image_1_len,\n",
    "                            kp1[i].size/image_0_len,\n",
    "                            kp1[i].angle/360,\n",
    "                            kp1[i].octave/3, \n",
    "                            kp1[i].class_id/14,\n",
    "\n",
    "                    ] + des1[i].tolist() # + [int(ntpath.basename(filename).split(\"_\")[0])]\n",
    "                    single_kp_features.append(new1)\n",
    "\n",
    "\n",
    "            features.append(\n",
    "                np.resize(\n",
    "                    sorted(single_kp_features, key = lambda x:x[0])\n",
    "                    ,(kp_number, 71)\n",
    "                )\n",
    "            )\n",
    "            names.append(int(ntpath.basename(filename).split(\"_\")[0]))\n",
    "    return features, names"
   ]
  },
  {
   "cell_type": "code",
   "execution_count": 44,
   "metadata": {},
   "outputs": [
    {
     "data": {
      "text/plain": [
       "'C:/Users/mkotyushev/Documents/z/*.jpg'"
      ]
     },
     "execution_count": 44,
     "metadata": {},
     "output_type": "execute_result"
    }
   ],
   "source": [
    "path + \"*.jpg\""
   ]
  },
  {
   "cell_type": "code",
   "execution_count": 59,
   "metadata": {},
   "outputs": [],
   "source": [
    "def create_kp(path, kp_number=2**13):\n",
    "    image_1_len = 840\n",
    "    image_0_len = 560\n",
    "    features = []\n",
    "    names = []\n",
    "    kaze = cv2.KAZE_create()\n",
    "\n",
    "    for filename in glob.glob(path + \"**.jpg\", recursive=True):\n",
    "#         print(ntpath.basename(filename).split(\"_\")[0])\n",
    "        img1 = cv2.imread(filename, 0)\n",
    "        kp1, des1 = kaze.detectAndCompute(img1, None)\n",
    "        \n",
    "        if len(kp1): \n",
    "            single_kp_features = []\n",
    "            for i in range(len(kp1)):\n",
    "                    new1 =  [\n",
    "                        kp1[i].response*10,\n",
    "                            kp1[i].pt[0]/image_0_len,\n",
    "                            kp1[i].pt[1]/image_1_len,\n",
    "                            kp1[i].size/image_0_len,\n",
    "                            kp1[i].angle/360,\n",
    "                            kp1[i].octave/3, \n",
    "                            kp1[i].class_id/14,\n",
    "\n",
    "                    ] + des1[i].tolist()\n",
    "                    single_kp_features.append(new1)\n",
    "\n",
    "            np.save( (filename + \"_kp.npy\"),\n",
    "                    sorted(single_kp_features, key = lambda x:x[0]))"
   ]
  },
  {
   "cell_type": "code",
   "execution_count": 62,
   "metadata": {},
   "outputs": [],
   "source": [
    "create_kp(r'C:/Users/mkotyushev/Documents/z_tiny_cut/*')"
   ]
  },
  {
   "cell_type": "code",
   "execution_count": 8,
   "metadata": {
    "collapsed": true
   },
   "outputs": [],
   "source": [
    "def generate_data(path):\n",
    "    X_data = []\n",
    "    y_data = []\n",
    "    \n",
    "    features, names = read_apparel(path)\n",
    "\n",
    "    for app_a, name_a in zip(features, names):\n",
    "        for app_b, name_b in zip(features, names):\n",
    "            X_data.append([app_a.tolist(), app_b.tolist()])\n",
    "            y_data.append(float(name_a == name_b))\n",
    "    return np.array(X_data), np.array(y_data)"
   ]
  },
  {
   "cell_type": "code",
   "execution_count": 9,
   "metadata": {
    "scrolled": true
   },
   "outputs": [],
   "source": [
    "X_train, y_train = generate_data(r'C:/Users/mkotyushev/Documents/z_tiny/')"
   ]
  },
  {
   "cell_type": "code",
   "execution_count": 10,
   "metadata": {},
   "outputs": [
    {
     "data": {
      "text/plain": [
       "(37636, 2, 64, 71)"
      ]
     },
     "execution_count": 10,
     "metadata": {},
     "output_type": "execute_result"
    }
   ],
   "source": [
    "X_train.shape"
   ]
  },
  {
   "cell_type": "code",
   "execution_count": 11,
   "metadata": {
    "scrolled": true
   },
   "outputs": [],
   "source": [
    "X_test, y_test = generate_data(r'C:/Users/mkotyushev/Documents/z_tiny_b/')"
   ]
  },
  {
   "cell_type": "code",
   "execution_count": 12,
   "metadata": {},
   "outputs": [
    {
     "data": {
      "text/plain": [
       "(18225, 2, 64, 71)"
      ]
     },
     "execution_count": 12,
     "metadata": {},
     "output_type": "execute_result"
    }
   ],
   "source": [
    "X_test.shape"
   ]
  },
  {
   "cell_type": "code",
   "execution_count": 39,
   "metadata": {},
   "outputs": [
    {
     "name": "stdout",
     "output_type": "stream",
     "text": [
      "0 range: 0.010000067995861173 - 0.6028455123305321 \n",
      "\n",
      "1 range: 0.003026960790157318 - 0.9950328281947545 \n",
      "\n",
      "2 range: 0.0018085760729653494 - 0.9969565981910342 \n",
      "\n",
      "3 range: 0.00571729668549129 - 0.07083385331290108 \n",
      "\n",
      "4 range: 4.639754382272561e-05 - 0.9999781290690104 \n",
      "\n",
      "5 range: 0.0 - 1.0 \n",
      "\n",
      "6 range: 0.07142857142857142 - 1.0 \n",
      "\n",
      "7 range: -0.3947840631008148 - 0.44129785895347595 \n",
      "\n",
      "8 range: -0.48490166664123535 - 0.5374051332473755 \n",
      "\n",
      "9 range: 0.0 - 0.4587584435939789 \n",
      "\n",
      "10 range: 0.0 - 0.5634503364562988 \n",
      "\n",
      "11 range: -0.336716890335083 - 0.3110734820365906 \n",
      "\n",
      "12 range: -0.47247153520584106 - 0.40484973788261414 \n",
      "\n",
      "13 range: 0.0 - 0.5884550213813782 \n",
      "\n",
      "14 range: 0.0 - 0.5732281804084778 \n",
      "\n",
      "15 range: -0.39618349075317383 - 0.3488147556781769 \n",
      "\n",
      "16 range: -0.5078930258750916 - 0.661106288433075 \n",
      "\n",
      "17 range: 1.0938735334198313e-10 - 0.6280149817466736 \n",
      "\n",
      "18 range: 1.6665574475993594e-10 - 0.7025898694992065 \n",
      "\n",
      "19 range: -0.4181159436702728 - 0.36405831575393677 \n",
      "\n",
      "20 range: -0.38319459557533264 - 0.6270343661308289 \n",
      "\n",
      "21 range: 0.0 - 0.4649966359138489 \n",
      "\n",
      "22 range: 0.0 - 0.6270344257354736 \n",
      "\n",
      "23 range: -0.4597088396549225 - 0.5872126221656799 \n",
      "\n",
      "24 range: -0.374484658241272 - 0.44169867038726807 \n",
      "\n",
      "25 range: 0.0 - 0.5872126221656799 \n",
      "\n",
      "26 range: 0.0 - 0.5065194368362427 \n",
      "\n",
      "27 range: -0.45918789505958557 - 0.4340399205684662 \n",
      "\n",
      "28 range: -0.43540874123573303 - 0.47520023584365845 \n",
      "\n",
      "29 range: 0.0022596365306526423 - 0.6498749256134033 \n",
      "\n",
      "30 range: 0.0024995426647365093 - 0.5886935591697693 \n",
      "\n",
      "31 range: -0.4400809109210968 - 0.42614904046058655 \n",
      "\n",
      "32 range: -0.428104430437088 - 0.41867193579673767 \n",
      "\n",
      "33 range: 0.0007866859086789191 - 0.7656421065330505 \n",
      "\n",
      "34 range: 0.0008539317059330642 - 0.6053351163864136 \n",
      "\n",
      "35 range: -0.559209942817688 - 0.47372934222221375 \n",
      "\n",
      "36 range: -0.3368864357471466 - 0.4033487141132355 \n",
      "\n",
      "37 range: 3.147158311733733e-09 - 0.5745756030082703 \n",
      "\n",
      "38 range: 7.472775176431412e-10 - 0.5346214175224304 \n",
      "\n",
      "39 range: -0.5188418626785278 - 0.5866843461990356 \n",
      "\n",
      "40 range: -0.4252772927284241 - 0.4112602770328522 \n",
      "\n",
      "41 range: 0.0 - 0.675673246383667 \n",
      "\n",
      "42 range: 0.0 - 0.5426401495933533 \n",
      "\n",
      "43 range: -0.4551585018634796 - 0.46981143951416016 \n",
      "\n",
      "44 range: -0.4461061656475067 - 0.42498382925987244 \n",
      "\n",
      "45 range: 0.0011344976956024766 - 0.6582818031311035 \n",
      "\n",
      "46 range: 0.0022868707310408354 - 0.5873656868934631 \n",
      "\n",
      "47 range: -0.42914438247680664 - 0.46028169989585876 \n",
      "\n",
      "48 range: -0.4022158980369568 - 0.43489938974380493 \n",
      "\n",
      "49 range: 0.002598984632641077 - 0.7051168084144592 \n",
      "\n",
      "50 range: 0.0014075749786570668 - 0.5633853673934937 \n",
      "\n",
      "51 range: -0.5447617769241333 - 0.4158080518245697 \n",
      "\n",
      "52 range: -0.42087915539741516 - 0.32565662264823914 \n",
      "\n",
      "53 range: 1.8405605928251134e-08 - 0.6300065517425537 \n",
      "\n",
      "54 range: 4.615277493513759e-09 - 0.7256684303283691 \n",
      "\n",
      "55 range: -0.3738841414451599 - 0.4681223928928375 \n",
      "\n",
      "56 range: -0.581838846206665 - 0.43441396951675415 \n",
      "\n",
      "57 range: 0.0 - 0.5500961542129517 \n",
      "\n",
      "58 range: 0.0 - 0.5821168422698975 \n",
      "\n",
      "59 range: -0.3503274619579315 - 0.3082253634929657 \n",
      "\n",
      "60 range: -0.43556684255599976 - 0.5537865161895752 \n",
      "\n",
      "61 range: 5.183237172801114e-10 - 0.5861520767211914 \n",
      "\n",
      "62 range: 2.837406976041734e-09 - 0.5554515719413757 \n",
      "\n",
      "63 range: -0.366848349571228 - 0.3734496533870697 \n",
      "\n",
      "64 range: -0.6286672353744507 - 0.40967974066734314 \n",
      "\n",
      "65 range: 1.1617056205892595e-09 - 0.581201434135437 \n",
      "\n",
      "66 range: 1.271819360937343e-08 - 0.6658795475959778 \n",
      "\n",
      "67 range: -0.6381248235702515 - 0.37010547518730164 \n",
      "\n",
      "68 range: -0.5944209694862366 - 0.36764681339263916 \n",
      "\n",
      "69 range: 0.0 - 0.6393922567367554 \n",
      "\n",
      "70 range: 0.0 - 0.6190811991691589 \n",
      "\n"
     ]
    }
   ],
   "source": [
    "for i in range(71):\n",
    "    print(\"{} range: {} - {} \\n\".format(i, np.min(X_train[:,:,:,i]), np.max(X_train[:,:,:,i])))"
   ]
  },
  {
   "cell_type": "code",
   "execution_count": 13,
   "metadata": {
    "collapsed": true
   },
   "outputs": [],
   "source": [
    "model = keras.models.Sequential()\n",
    "model.add(L.InputLayer(input_shape=[2, 64, 71]))\n",
    "model.add(L.BatchNormalization())\n",
    "model.add(L.Flatten())\n",
    "model.add(L.Dense(512, activation='relu'))\n",
    "model.add(L.Dense(256, activation='relu'))\n",
    "model.add(L.Dense(1))\n",
    "model.compile(optimizer='adam', loss='mean_squared_error')"
   ]
  },
  {
   "cell_type": "code",
   "execution_count": 14,
   "metadata": {},
   "outputs": [
    {
     "name": "stdout",
     "output_type": "stream",
     "text": [
      "Train on 37636 samples, validate on 18225 samples\n",
      "Epoch 1/10\n",
      "37636/37636 [==============================] - 21s 571us/step - loss: 0.1867 - val_loss: 0.0660\n",
      "Epoch 2/10\n",
      "37636/37636 [==============================] - 18s 482us/step - loss: 0.0289 - val_loss: 0.0657\n",
      "Epoch 3/10\n",
      "37636/37636 [==============================] - 18s 479us/step - loss: 0.0194 - val_loss: 0.0671\n",
      "Epoch 4/10\n",
      "37636/37636 [==============================] - 18s 474us/step - loss: 0.0136 - val_loss: 0.0667\n",
      "Epoch 5/10\n",
      "37636/37636 [==============================] - 18s 478us/step - loss: 0.0118 - val_loss: 0.0664\n",
      "Epoch 6/10\n",
      "37636/37636 [==============================] - 18s 488us/step - loss: 0.0124 - val_loss: 0.0662\n",
      "Epoch 7/10\n",
      "37636/37636 [==============================] - 19s 492us/step - loss: 0.0118 - val_loss: 0.0661\n",
      "Epoch 8/10\n",
      "37636/37636 [==============================] - 18s 484us/step - loss: 0.0099 - val_loss: 0.0656\n",
      "Epoch 9/10\n",
      "37636/37636 [==============================] - 18s 482us/step - loss: 0.0094 - val_loss: 0.0658\n",
      "Epoch 10/10\n",
      "37636/37636 [==============================] - 18s 480us/step - loss: 0.0092 - val_loss: 0.0655\n"
     ]
    },
    {
     "data": {
      "text/plain": [
       "<keras.callbacks.History at 0x2677eb515f8>"
      ]
     },
     "execution_count": 14,
     "metadata": {},
     "output_type": "execute_result"
    }
   ],
   "source": [
    "model.fit(np.array(X_train), (np.array(y_train)), epochs=10, validation_data=[(np.array(X_test)), (np.array(y_test))])"
   ]
  },
  {
   "cell_type": "code",
   "execution_count": 15,
   "metadata": {},
   "outputs": [
    {
     "name": "stdout",
     "output_type": "stream",
     "text": [
      "Train on 37636 samples, validate on 18225 samples\n",
      "Epoch 1/100\n",
      "37636/37636 [==============================] - 18s 485us/step - loss: 0.0073 - val_loss: 0.0648\n",
      "Epoch 2/100\n",
      "37636/37636 [==============================] - 18s 479us/step - loss: 0.0062 - val_loss: 0.0651\n",
      "Epoch 3/100\n",
      "37636/37636 [==============================] - 18s 474us/step - loss: 0.0054 - val_loss: 0.0651\n",
      "Epoch 4/100\n",
      "37636/37636 [==============================] - 18s 474us/step - loss: 0.0044 - val_loss: 0.0656\n",
      "Epoch 5/100\n",
      "37636/37636 [==============================] - 18s 477us/step - loss: 0.0034 - val_loss: 0.0681\n",
      "Epoch 6/100\n",
      "37636/37636 [==============================] - 18s 476us/step - loss: 0.0032 - val_loss: 0.0719\n",
      "Epoch 7/100\n",
      "37636/37636 [==============================] - 18s 476us/step - loss: 0.0022 - val_loss: 0.0724\n",
      "Epoch 8/100\n",
      "37636/37636 [==============================] - 18s 475us/step - loss: 0.0021 - val_loss: 0.0761\n",
      "Epoch 9/100\n",
      "18432/37636 [=============>................] - ETA: 8s - loss: 0.0020"
     ]
    },
    {
     "ename": "KeyboardInterrupt",
     "evalue": "",
     "output_type": "error",
     "traceback": [
      "\u001b[1;31m---------------------------------------------------------------------------\u001b[0m",
      "\u001b[1;31mKeyboardInterrupt\u001b[0m                         Traceback (most recent call last)",
      "\u001b[1;32m<ipython-input-15-008a5ce3320c>\u001b[0m in \u001b[0;36m<module>\u001b[1;34m()\u001b[0m\n\u001b[1;32m----> 1\u001b[1;33m \u001b[0mmodel\u001b[0m\u001b[1;33m.\u001b[0m\u001b[0mfit\u001b[0m\u001b[1;33m(\u001b[0m\u001b[0mnp\u001b[0m\u001b[1;33m.\u001b[0m\u001b[0marray\u001b[0m\u001b[1;33m(\u001b[0m\u001b[0mX_train\u001b[0m\u001b[1;33m)\u001b[0m\u001b[1;33m,\u001b[0m \u001b[1;33m(\u001b[0m\u001b[0mnp\u001b[0m\u001b[1;33m.\u001b[0m\u001b[0marray\u001b[0m\u001b[1;33m(\u001b[0m\u001b[0my_train\u001b[0m\u001b[1;33m)\u001b[0m\u001b[1;33m)\u001b[0m\u001b[1;33m,\u001b[0m \u001b[0mepochs\u001b[0m\u001b[1;33m=\u001b[0m\u001b[1;36m100\u001b[0m\u001b[1;33m,\u001b[0m \u001b[0mvalidation_data\u001b[0m\u001b[1;33m=\u001b[0m\u001b[1;33m[\u001b[0m\u001b[1;33m(\u001b[0m\u001b[0mnp\u001b[0m\u001b[1;33m.\u001b[0m\u001b[0marray\u001b[0m\u001b[1;33m(\u001b[0m\u001b[0mX_test\u001b[0m\u001b[1;33m)\u001b[0m\u001b[1;33m)\u001b[0m\u001b[1;33m,\u001b[0m \u001b[1;33m(\u001b[0m\u001b[0mnp\u001b[0m\u001b[1;33m.\u001b[0m\u001b[0marray\u001b[0m\u001b[1;33m(\u001b[0m\u001b[0my_test\u001b[0m\u001b[1;33m)\u001b[0m\u001b[1;33m)\u001b[0m\u001b[1;33m]\u001b[0m\u001b[1;33m)\u001b[0m\u001b[1;33m\u001b[0m\u001b[0m\n\u001b[0m",
      "\u001b[1;32m~\\AppData\\Local\\Programs\\Anaconda3\\lib\\site-packages\\keras\\engine\\training.py\u001b[0m in \u001b[0;36mfit\u001b[1;34m(self, x, y, batch_size, epochs, verbose, callbacks, validation_split, validation_data, shuffle, class_weight, sample_weight, initial_epoch, steps_per_epoch, validation_steps, **kwargs)\u001b[0m\n\u001b[0;32m   1037\u001b[0m                                         \u001b[0minitial_epoch\u001b[0m\u001b[1;33m=\u001b[0m\u001b[0minitial_epoch\u001b[0m\u001b[1;33m,\u001b[0m\u001b[1;33m\u001b[0m\u001b[0m\n\u001b[0;32m   1038\u001b[0m                                         \u001b[0msteps_per_epoch\u001b[0m\u001b[1;33m=\u001b[0m\u001b[0msteps_per_epoch\u001b[0m\u001b[1;33m,\u001b[0m\u001b[1;33m\u001b[0m\u001b[0m\n\u001b[1;32m-> 1039\u001b[1;33m                                         validation_steps=validation_steps)\n\u001b[0m\u001b[0;32m   1040\u001b[0m \u001b[1;33m\u001b[0m\u001b[0m\n\u001b[0;32m   1041\u001b[0m     def evaluate(self, x=None, y=None,\n",
      "\u001b[1;32m~\\AppData\\Local\\Programs\\Anaconda3\\lib\\site-packages\\keras\\engine\\training_arrays.py\u001b[0m in \u001b[0;36mfit_loop\u001b[1;34m(model, f, ins, out_labels, batch_size, epochs, verbose, callbacks, val_f, val_ins, shuffle, callback_metrics, initial_epoch, steps_per_epoch, validation_steps)\u001b[0m\n\u001b[0;32m    197\u001b[0m                     \u001b[0mins_batch\u001b[0m\u001b[1;33m[\u001b[0m\u001b[0mi\u001b[0m\u001b[1;33m]\u001b[0m \u001b[1;33m=\u001b[0m \u001b[0mins_batch\u001b[0m\u001b[1;33m[\u001b[0m\u001b[0mi\u001b[0m\u001b[1;33m]\u001b[0m\u001b[1;33m.\u001b[0m\u001b[0mtoarray\u001b[0m\u001b[1;33m(\u001b[0m\u001b[1;33m)\u001b[0m\u001b[1;33m\u001b[0m\u001b[0m\n\u001b[0;32m    198\u001b[0m \u001b[1;33m\u001b[0m\u001b[0m\n\u001b[1;32m--> 199\u001b[1;33m                 \u001b[0mouts\u001b[0m \u001b[1;33m=\u001b[0m \u001b[0mf\u001b[0m\u001b[1;33m(\u001b[0m\u001b[0mins_batch\u001b[0m\u001b[1;33m)\u001b[0m\u001b[1;33m\u001b[0m\u001b[0m\n\u001b[0m\u001b[0;32m    200\u001b[0m                 \u001b[0mouts\u001b[0m \u001b[1;33m=\u001b[0m \u001b[0mto_list\u001b[0m\u001b[1;33m(\u001b[0m\u001b[0mouts\u001b[0m\u001b[1;33m)\u001b[0m\u001b[1;33m\u001b[0m\u001b[0m\n\u001b[0;32m    201\u001b[0m                 \u001b[1;32mfor\u001b[0m \u001b[0ml\u001b[0m\u001b[1;33m,\u001b[0m \u001b[0mo\u001b[0m \u001b[1;32min\u001b[0m \u001b[0mzip\u001b[0m\u001b[1;33m(\u001b[0m\u001b[0mout_labels\u001b[0m\u001b[1;33m,\u001b[0m \u001b[0mouts\u001b[0m\u001b[1;33m)\u001b[0m\u001b[1;33m:\u001b[0m\u001b[1;33m\u001b[0m\u001b[0m\n",
      "\u001b[1;32m~\\AppData\\Local\\Programs\\Anaconda3\\lib\\site-packages\\keras\\backend\\tensorflow_backend.py\u001b[0m in \u001b[0;36m__call__\u001b[1;34m(self, inputs)\u001b[0m\n\u001b[0;32m   2713\u001b[0m                 \u001b[1;32mreturn\u001b[0m \u001b[0mself\u001b[0m\u001b[1;33m.\u001b[0m\u001b[0m_legacy_call\u001b[0m\u001b[1;33m(\u001b[0m\u001b[0minputs\u001b[0m\u001b[1;33m)\u001b[0m\u001b[1;33m\u001b[0m\u001b[0m\n\u001b[0;32m   2714\u001b[0m \u001b[1;33m\u001b[0m\u001b[0m\n\u001b[1;32m-> 2715\u001b[1;33m             \u001b[1;32mreturn\u001b[0m \u001b[0mself\u001b[0m\u001b[1;33m.\u001b[0m\u001b[0m_call\u001b[0m\u001b[1;33m(\u001b[0m\u001b[0minputs\u001b[0m\u001b[1;33m)\u001b[0m\u001b[1;33m\u001b[0m\u001b[0m\n\u001b[0m\u001b[0;32m   2716\u001b[0m         \u001b[1;32melse\u001b[0m\u001b[1;33m:\u001b[0m\u001b[1;33m\u001b[0m\u001b[0m\n\u001b[0;32m   2717\u001b[0m             \u001b[1;32mif\u001b[0m \u001b[0mpy_any\u001b[0m\u001b[1;33m(\u001b[0m\u001b[0mis_tensor\u001b[0m\u001b[1;33m(\u001b[0m\u001b[0mx\u001b[0m\u001b[1;33m)\u001b[0m \u001b[1;32mfor\u001b[0m \u001b[0mx\u001b[0m \u001b[1;32min\u001b[0m \u001b[0minputs\u001b[0m\u001b[1;33m)\u001b[0m\u001b[1;33m:\u001b[0m\u001b[1;33m\u001b[0m\u001b[0m\n",
      "\u001b[1;32m~\\AppData\\Local\\Programs\\Anaconda3\\lib\\site-packages\\keras\\backend\\tensorflow_backend.py\u001b[0m in \u001b[0;36m_call\u001b[1;34m(self, inputs)\u001b[0m\n\u001b[0;32m   2673\u001b[0m             \u001b[0mfetched\u001b[0m \u001b[1;33m=\u001b[0m \u001b[0mself\u001b[0m\u001b[1;33m.\u001b[0m\u001b[0m_callable_fn\u001b[0m\u001b[1;33m(\u001b[0m\u001b[1;33m*\u001b[0m\u001b[0marray_vals\u001b[0m\u001b[1;33m,\u001b[0m \u001b[0mrun_metadata\u001b[0m\u001b[1;33m=\u001b[0m\u001b[0mself\u001b[0m\u001b[1;33m.\u001b[0m\u001b[0mrun_metadata\u001b[0m\u001b[1;33m)\u001b[0m\u001b[1;33m\u001b[0m\u001b[0m\n\u001b[0;32m   2674\u001b[0m         \u001b[1;32melse\u001b[0m\u001b[1;33m:\u001b[0m\u001b[1;33m\u001b[0m\u001b[0m\n\u001b[1;32m-> 2675\u001b[1;33m             \u001b[0mfetched\u001b[0m \u001b[1;33m=\u001b[0m \u001b[0mself\u001b[0m\u001b[1;33m.\u001b[0m\u001b[0m_callable_fn\u001b[0m\u001b[1;33m(\u001b[0m\u001b[1;33m*\u001b[0m\u001b[0marray_vals\u001b[0m\u001b[1;33m)\u001b[0m\u001b[1;33m\u001b[0m\u001b[0m\n\u001b[0m\u001b[0;32m   2676\u001b[0m         \u001b[1;32mreturn\u001b[0m \u001b[0mfetched\u001b[0m\u001b[1;33m[\u001b[0m\u001b[1;33m:\u001b[0m\u001b[0mlen\u001b[0m\u001b[1;33m(\u001b[0m\u001b[0mself\u001b[0m\u001b[1;33m.\u001b[0m\u001b[0moutputs\u001b[0m\u001b[1;33m)\u001b[0m\u001b[1;33m]\u001b[0m\u001b[1;33m\u001b[0m\u001b[0m\n\u001b[0;32m   2677\u001b[0m \u001b[1;33m\u001b[0m\u001b[0m\n",
      "\u001b[1;32m~\\AppData\\Local\\Programs\\Anaconda3\\lib\\site-packages\\tensorflow\\python\\client\\session.py\u001b[0m in \u001b[0;36m__call__\u001b[1;34m(self, *args, **kwargs)\u001b[0m\n\u001b[0;32m   1380\u001b[0m           ret = tf_session.TF_SessionRunCallable(\n\u001b[0;32m   1381\u001b[0m               \u001b[0mself\u001b[0m\u001b[1;33m.\u001b[0m\u001b[0m_session\u001b[0m\u001b[1;33m.\u001b[0m\u001b[0m_session\u001b[0m\u001b[1;33m,\u001b[0m \u001b[0mself\u001b[0m\u001b[1;33m.\u001b[0m\u001b[0m_handle\u001b[0m\u001b[1;33m,\u001b[0m \u001b[0margs\u001b[0m\u001b[1;33m,\u001b[0m \u001b[0mstatus\u001b[0m\u001b[1;33m,\u001b[0m\u001b[1;33m\u001b[0m\u001b[0m\n\u001b[1;32m-> 1382\u001b[1;33m               run_metadata_ptr)\n\u001b[0m\u001b[0;32m   1383\u001b[0m         \u001b[1;32mif\u001b[0m \u001b[0mrun_metadata\u001b[0m\u001b[1;33m:\u001b[0m\u001b[1;33m\u001b[0m\u001b[0m\n\u001b[0;32m   1384\u001b[0m           \u001b[0mproto_data\u001b[0m \u001b[1;33m=\u001b[0m \u001b[0mtf_session\u001b[0m\u001b[1;33m.\u001b[0m\u001b[0mTF_GetBuffer\u001b[0m\u001b[1;33m(\u001b[0m\u001b[0mrun_metadata_ptr\u001b[0m\u001b[1;33m)\u001b[0m\u001b[1;33m\u001b[0m\u001b[0m\n",
      "\u001b[1;31mKeyboardInterrupt\u001b[0m: "
     ]
    }
   ],
   "source": [
    "model.fit(np.array(X_train), (np.array(y_train)), epochs=100, validation_data=[(np.array(X_test)), (np.array(y_test))])"
   ]
  },
  {
   "cell_type": "code",
   "execution_count": 20,
   "metadata": {
    "collapsed": true
   },
   "outputs": [],
   "source": [
    "model = keras.models.Sequential()\n",
    "model.add(L.InputLayer(input_shape=[2, 64, 71]))\n",
    "model.add(L.BatchNormalization())\n",
    "model.add(L.Flatten())\n",
    "model.add(L.Dense(32, activation='relu'))\n",
    "model.add(L.BatchNormalization())\n",
    "model.add(L.Dropout(0.1))\n",
    "model.add(L.Dense(32, activation='relu'))\n",
    "model.add(L.BatchNormalization())\n",
    "model.add(L.Dropout(0.1))\n",
    "model.add(L.Dense(1))\n",
    "model.compile(optimizer='adam', loss='mean_squared_error')"
   ]
  },
  {
   "cell_type": "code",
   "execution_count": 34,
   "metadata": {},
   "outputs": [
    {
     "name": "stdout",
     "output_type": "stream",
     "text": [
      "Train on 37636 samples, validate on 18225 samples\n",
      "Epoch 1/10\n",
      "37636/37636 [==============================] - 34s 914us/step - loss: 0.2122 - val_loss: 0.0656\n",
      "Epoch 2/10\n",
      "37636/37636 [==============================] - 32s 848us/step - loss: 0.0496 - val_loss: 0.0655\n",
      "Epoch 3/10\n",
      "37636/37636 [==============================] - 32s 848us/step - loss: 0.0427 - val_loss: 0.0660\n",
      "Epoch 4/10\n",
      "37636/37636 [==============================] - 33s 864us/step - loss: 0.0382 - val_loss: 0.0657\n",
      "Epoch 5/10\n",
      "37636/37636 [==============================] - 32s 853us/step - loss: 0.0351 - val_loss: 0.0654\n",
      "Epoch 6/10\n",
      "37636/37636 [==============================] - 32s 845us/step - loss: 0.0334 - val_loss: 0.0644\n",
      "Epoch 7/10\n",
      "37636/37636 [==============================] - 32s 857us/step - loss: 0.0314 - val_loss: 0.0644\n",
      "Epoch 8/10\n",
      "37636/37636 [==============================] - 32s 857us/step - loss: 0.0313 - val_loss: 0.0640\n",
      "Epoch 9/10\n",
      "37636/37636 [==============================] - 32s 839us/step - loss: 0.0301 - val_loss: 0.0647\n",
      "Epoch 10/10\n",
      "37636/37636 [==============================] - 35s 925us/step - loss: 0.0284 - val_loss: 0.0639\n"
     ]
    },
    {
     "data": {
      "text/plain": [
       "<keras.callbacks.History at 0x267701d19e8>"
      ]
     },
     "execution_count": 34,
     "metadata": {},
     "output_type": "execute_result"
    }
   ],
   "source": [
    "model.fit(np.array(X_train), (np.array(y_train)), epochs=10, validation_data=[(np.array(X_test)), (np.array(y_test))])"
   ]
  },
  {
   "cell_type": "code",
   "execution_count": 35,
   "metadata": {},
   "outputs": [
    {
     "name": "stdout",
     "output_type": "stream",
     "text": [
      "Train on 37636 samples, validate on 18225 samples\n",
      "Epoch 1/10\n",
      "37636/37636 [==============================] - 33s 872us/step - loss: 0.0266 - val_loss: 0.0652\n",
      "Epoch 2/10\n",
      "37636/37636 [==============================] - 32s 856us/step - loss: 0.0253 - val_loss: 0.0674\n",
      "Epoch 3/10\n",
      "37636/37636 [==============================] - 32s 863us/step - loss: 0.0234 - val_loss: 0.0795\n",
      "Epoch 4/10\n",
      "37636/37636 [==============================] - 32s 857us/step - loss: 0.0212 - val_loss: 0.0798\n",
      "Epoch 5/10\n",
      "37636/37636 [==============================] - 32s 858us/step - loss: 0.0194 - val_loss: 0.0843\n",
      "Epoch 6/10\n",
      "37636/37636 [==============================] - 32s 857us/step - loss: 0.0180 - val_loss: 0.1325\n",
      "Epoch 7/10\n",
      "37636/37636 [==============================] - 33s 870us/step - loss: 0.0166 - val_loss: 0.1126\n",
      "Epoch 8/10\n",
      "37636/37636 [==============================] - 33s 874us/step - loss: 0.0155 - val_loss: 0.1003\n",
      "Epoch 9/10\n",
      "37636/37636 [==============================] - 33s 867us/step - loss: 0.0145 - val_loss: 0.1613\n",
      "Epoch 10/10\n",
      "37636/37636 [==============================] - 32s 847us/step - loss: 0.0135 - val_loss: 0.1028\n"
     ]
    },
    {
     "data": {
      "text/plain": [
       "<keras.callbacks.History at 0x267a7dc2898>"
      ]
     },
     "execution_count": 35,
     "metadata": {},
     "output_type": "execute_result"
    }
   ],
   "source": [
    "model.fit(np.array(X_train), (np.array(y_train)), epochs=10, validation_data=[(np.array(X_test)), (np.array(y_test))])"
   ]
  },
  {
   "cell_type": "code",
   "execution_count": 15,
   "metadata": {},
   "outputs": [
    {
     "name": "stdout",
     "output_type": "stream",
     "text": [
      "Train on 37636 samples, validate on 18225 samples\n",
      "Epoch 1/100\n",
      "37636/37636 [==============================] - 18s 485us/step - loss: 0.0073 - val_loss: 0.0648\n",
      "Epoch 2/100\n",
      "37636/37636 [==============================] - 18s 479us/step - loss: 0.0062 - val_loss: 0.0651\n",
      "Epoch 3/100\n",
      "37636/37636 [==============================] - 18s 474us/step - loss: 0.0054 - val_loss: 0.0651\n",
      "Epoch 4/100\n",
      "37636/37636 [==============================] - 18s 474us/step - loss: 0.0044 - val_loss: 0.0656\n",
      "Epoch 5/100\n",
      "37636/37636 [==============================] - 18s 477us/step - loss: 0.0034 - val_loss: 0.0681\n",
      "Epoch 6/100\n",
      "37636/37636 [==============================] - 18s 476us/step - loss: 0.0032 - val_loss: 0.0719\n",
      "Epoch 7/100\n",
      "37636/37636 [==============================] - 18s 476us/step - loss: 0.0022 - val_loss: 0.0724\n",
      "Epoch 8/100\n",
      "37636/37636 [==============================] - 18s 475us/step - loss: 0.0021 - val_loss: 0.0761\n",
      "Epoch 9/100\n",
      "18432/37636 [=============>................] - ETA: 8s - loss: 0.0020"
     ]
    },
    {
     "ename": "KeyboardInterrupt",
     "evalue": "",
     "output_type": "error",
     "traceback": [
      "\u001b[1;31m---------------------------------------------------------------------------\u001b[0m",
      "\u001b[1;31mKeyboardInterrupt\u001b[0m                         Traceback (most recent call last)",
      "\u001b[1;32m<ipython-input-15-008a5ce3320c>\u001b[0m in \u001b[0;36m<module>\u001b[1;34m()\u001b[0m\n\u001b[1;32m----> 1\u001b[1;33m \u001b[0mmodel\u001b[0m\u001b[1;33m.\u001b[0m\u001b[0mfit\u001b[0m\u001b[1;33m(\u001b[0m\u001b[0mnp\u001b[0m\u001b[1;33m.\u001b[0m\u001b[0marray\u001b[0m\u001b[1;33m(\u001b[0m\u001b[0mX_train\u001b[0m\u001b[1;33m)\u001b[0m\u001b[1;33m,\u001b[0m \u001b[1;33m(\u001b[0m\u001b[0mnp\u001b[0m\u001b[1;33m.\u001b[0m\u001b[0marray\u001b[0m\u001b[1;33m(\u001b[0m\u001b[0my_train\u001b[0m\u001b[1;33m)\u001b[0m\u001b[1;33m)\u001b[0m\u001b[1;33m,\u001b[0m \u001b[0mepochs\u001b[0m\u001b[1;33m=\u001b[0m\u001b[1;36m100\u001b[0m\u001b[1;33m,\u001b[0m \u001b[0mvalidation_data\u001b[0m\u001b[1;33m=\u001b[0m\u001b[1;33m[\u001b[0m\u001b[1;33m(\u001b[0m\u001b[0mnp\u001b[0m\u001b[1;33m.\u001b[0m\u001b[0marray\u001b[0m\u001b[1;33m(\u001b[0m\u001b[0mX_test\u001b[0m\u001b[1;33m)\u001b[0m\u001b[1;33m)\u001b[0m\u001b[1;33m,\u001b[0m \u001b[1;33m(\u001b[0m\u001b[0mnp\u001b[0m\u001b[1;33m.\u001b[0m\u001b[0marray\u001b[0m\u001b[1;33m(\u001b[0m\u001b[0my_test\u001b[0m\u001b[1;33m)\u001b[0m\u001b[1;33m)\u001b[0m\u001b[1;33m]\u001b[0m\u001b[1;33m)\u001b[0m\u001b[1;33m\u001b[0m\u001b[0m\n\u001b[0m",
      "\u001b[1;32m~\\AppData\\Local\\Programs\\Anaconda3\\lib\\site-packages\\keras\\engine\\training.py\u001b[0m in \u001b[0;36mfit\u001b[1;34m(self, x, y, batch_size, epochs, verbose, callbacks, validation_split, validation_data, shuffle, class_weight, sample_weight, initial_epoch, steps_per_epoch, validation_steps, **kwargs)\u001b[0m\n\u001b[0;32m   1037\u001b[0m                                         \u001b[0minitial_epoch\u001b[0m\u001b[1;33m=\u001b[0m\u001b[0minitial_epoch\u001b[0m\u001b[1;33m,\u001b[0m\u001b[1;33m\u001b[0m\u001b[0m\n\u001b[0;32m   1038\u001b[0m                                         \u001b[0msteps_per_epoch\u001b[0m\u001b[1;33m=\u001b[0m\u001b[0msteps_per_epoch\u001b[0m\u001b[1;33m,\u001b[0m\u001b[1;33m\u001b[0m\u001b[0m\n\u001b[1;32m-> 1039\u001b[1;33m                                         validation_steps=validation_steps)\n\u001b[0m\u001b[0;32m   1040\u001b[0m \u001b[1;33m\u001b[0m\u001b[0m\n\u001b[0;32m   1041\u001b[0m     def evaluate(self, x=None, y=None,\n",
      "\u001b[1;32m~\\AppData\\Local\\Programs\\Anaconda3\\lib\\site-packages\\keras\\engine\\training_arrays.py\u001b[0m in \u001b[0;36mfit_loop\u001b[1;34m(model, f, ins, out_labels, batch_size, epochs, verbose, callbacks, val_f, val_ins, shuffle, callback_metrics, initial_epoch, steps_per_epoch, validation_steps)\u001b[0m\n\u001b[0;32m    197\u001b[0m                     \u001b[0mins_batch\u001b[0m\u001b[1;33m[\u001b[0m\u001b[0mi\u001b[0m\u001b[1;33m]\u001b[0m \u001b[1;33m=\u001b[0m \u001b[0mins_batch\u001b[0m\u001b[1;33m[\u001b[0m\u001b[0mi\u001b[0m\u001b[1;33m]\u001b[0m\u001b[1;33m.\u001b[0m\u001b[0mtoarray\u001b[0m\u001b[1;33m(\u001b[0m\u001b[1;33m)\u001b[0m\u001b[1;33m\u001b[0m\u001b[0m\n\u001b[0;32m    198\u001b[0m \u001b[1;33m\u001b[0m\u001b[0m\n\u001b[1;32m--> 199\u001b[1;33m                 \u001b[0mouts\u001b[0m \u001b[1;33m=\u001b[0m \u001b[0mf\u001b[0m\u001b[1;33m(\u001b[0m\u001b[0mins_batch\u001b[0m\u001b[1;33m)\u001b[0m\u001b[1;33m\u001b[0m\u001b[0m\n\u001b[0m\u001b[0;32m    200\u001b[0m                 \u001b[0mouts\u001b[0m \u001b[1;33m=\u001b[0m \u001b[0mto_list\u001b[0m\u001b[1;33m(\u001b[0m\u001b[0mouts\u001b[0m\u001b[1;33m)\u001b[0m\u001b[1;33m\u001b[0m\u001b[0m\n\u001b[0;32m    201\u001b[0m                 \u001b[1;32mfor\u001b[0m \u001b[0ml\u001b[0m\u001b[1;33m,\u001b[0m \u001b[0mo\u001b[0m \u001b[1;32min\u001b[0m \u001b[0mzip\u001b[0m\u001b[1;33m(\u001b[0m\u001b[0mout_labels\u001b[0m\u001b[1;33m,\u001b[0m \u001b[0mouts\u001b[0m\u001b[1;33m)\u001b[0m\u001b[1;33m:\u001b[0m\u001b[1;33m\u001b[0m\u001b[0m\n",
      "\u001b[1;32m~\\AppData\\Local\\Programs\\Anaconda3\\lib\\site-packages\\keras\\backend\\tensorflow_backend.py\u001b[0m in \u001b[0;36m__call__\u001b[1;34m(self, inputs)\u001b[0m\n\u001b[0;32m   2713\u001b[0m                 \u001b[1;32mreturn\u001b[0m \u001b[0mself\u001b[0m\u001b[1;33m.\u001b[0m\u001b[0m_legacy_call\u001b[0m\u001b[1;33m(\u001b[0m\u001b[0minputs\u001b[0m\u001b[1;33m)\u001b[0m\u001b[1;33m\u001b[0m\u001b[0m\n\u001b[0;32m   2714\u001b[0m \u001b[1;33m\u001b[0m\u001b[0m\n\u001b[1;32m-> 2715\u001b[1;33m             \u001b[1;32mreturn\u001b[0m \u001b[0mself\u001b[0m\u001b[1;33m.\u001b[0m\u001b[0m_call\u001b[0m\u001b[1;33m(\u001b[0m\u001b[0minputs\u001b[0m\u001b[1;33m)\u001b[0m\u001b[1;33m\u001b[0m\u001b[0m\n\u001b[0m\u001b[0;32m   2716\u001b[0m         \u001b[1;32melse\u001b[0m\u001b[1;33m:\u001b[0m\u001b[1;33m\u001b[0m\u001b[0m\n\u001b[0;32m   2717\u001b[0m             \u001b[1;32mif\u001b[0m \u001b[0mpy_any\u001b[0m\u001b[1;33m(\u001b[0m\u001b[0mis_tensor\u001b[0m\u001b[1;33m(\u001b[0m\u001b[0mx\u001b[0m\u001b[1;33m)\u001b[0m \u001b[1;32mfor\u001b[0m \u001b[0mx\u001b[0m \u001b[1;32min\u001b[0m \u001b[0minputs\u001b[0m\u001b[1;33m)\u001b[0m\u001b[1;33m:\u001b[0m\u001b[1;33m\u001b[0m\u001b[0m\n",
      "\u001b[1;32m~\\AppData\\Local\\Programs\\Anaconda3\\lib\\site-packages\\keras\\backend\\tensorflow_backend.py\u001b[0m in \u001b[0;36m_call\u001b[1;34m(self, inputs)\u001b[0m\n\u001b[0;32m   2673\u001b[0m             \u001b[0mfetched\u001b[0m \u001b[1;33m=\u001b[0m \u001b[0mself\u001b[0m\u001b[1;33m.\u001b[0m\u001b[0m_callable_fn\u001b[0m\u001b[1;33m(\u001b[0m\u001b[1;33m*\u001b[0m\u001b[0marray_vals\u001b[0m\u001b[1;33m,\u001b[0m \u001b[0mrun_metadata\u001b[0m\u001b[1;33m=\u001b[0m\u001b[0mself\u001b[0m\u001b[1;33m.\u001b[0m\u001b[0mrun_metadata\u001b[0m\u001b[1;33m)\u001b[0m\u001b[1;33m\u001b[0m\u001b[0m\n\u001b[0;32m   2674\u001b[0m         \u001b[1;32melse\u001b[0m\u001b[1;33m:\u001b[0m\u001b[1;33m\u001b[0m\u001b[0m\n\u001b[1;32m-> 2675\u001b[1;33m             \u001b[0mfetched\u001b[0m \u001b[1;33m=\u001b[0m \u001b[0mself\u001b[0m\u001b[1;33m.\u001b[0m\u001b[0m_callable_fn\u001b[0m\u001b[1;33m(\u001b[0m\u001b[1;33m*\u001b[0m\u001b[0marray_vals\u001b[0m\u001b[1;33m)\u001b[0m\u001b[1;33m\u001b[0m\u001b[0m\n\u001b[0m\u001b[0;32m   2676\u001b[0m         \u001b[1;32mreturn\u001b[0m \u001b[0mfetched\u001b[0m\u001b[1;33m[\u001b[0m\u001b[1;33m:\u001b[0m\u001b[0mlen\u001b[0m\u001b[1;33m(\u001b[0m\u001b[0mself\u001b[0m\u001b[1;33m.\u001b[0m\u001b[0moutputs\u001b[0m\u001b[1;33m)\u001b[0m\u001b[1;33m]\u001b[0m\u001b[1;33m\u001b[0m\u001b[0m\n\u001b[0;32m   2677\u001b[0m \u001b[1;33m\u001b[0m\u001b[0m\n",
      "\u001b[1;32m~\\AppData\\Local\\Programs\\Anaconda3\\lib\\site-packages\\tensorflow\\python\\client\\session.py\u001b[0m in \u001b[0;36m__call__\u001b[1;34m(self, *args, **kwargs)\u001b[0m\n\u001b[0;32m   1380\u001b[0m           ret = tf_session.TF_SessionRunCallable(\n\u001b[0;32m   1381\u001b[0m               \u001b[0mself\u001b[0m\u001b[1;33m.\u001b[0m\u001b[0m_session\u001b[0m\u001b[1;33m.\u001b[0m\u001b[0m_session\u001b[0m\u001b[1;33m,\u001b[0m \u001b[0mself\u001b[0m\u001b[1;33m.\u001b[0m\u001b[0m_handle\u001b[0m\u001b[1;33m,\u001b[0m \u001b[0margs\u001b[0m\u001b[1;33m,\u001b[0m \u001b[0mstatus\u001b[0m\u001b[1;33m,\u001b[0m\u001b[1;33m\u001b[0m\u001b[0m\n\u001b[1;32m-> 1382\u001b[1;33m               run_metadata_ptr)\n\u001b[0m\u001b[0;32m   1383\u001b[0m         \u001b[1;32mif\u001b[0m \u001b[0mrun_metadata\u001b[0m\u001b[1;33m:\u001b[0m\u001b[1;33m\u001b[0m\u001b[0m\n\u001b[0;32m   1384\u001b[0m           \u001b[0mproto_data\u001b[0m \u001b[1;33m=\u001b[0m \u001b[0mtf_session\u001b[0m\u001b[1;33m.\u001b[0m\u001b[0mTF_GetBuffer\u001b[0m\u001b[1;33m(\u001b[0m\u001b[0mrun_metadata_ptr\u001b[0m\u001b[1;33m)\u001b[0m\u001b[1;33m\u001b[0m\u001b[0m\n",
      "\u001b[1;31mKeyboardInterrupt\u001b[0m: "
     ]
    }
   ],
   "source": [
    "model.fit(np.array(X_train), (np.array(y_train)), epochs=100, validation_data=[(np.array(X_test)), (np.array(y_test))])"
   ]
  },
  {
   "cell_type": "code",
   "execution_count": null,
   "metadata": {
    "collapsed": true
   },
   "outputs": [],
   "source": []
  }
 ],
 "metadata": {
  "kernelspec": {
   "display_name": "Python 3",
   "language": "python",
   "name": "python3"
  },
  "language_info": {
   "codemirror_mode": {
    "name": "ipython",
    "version": 3
   },
   "file_extension": ".py",
   "mimetype": "text/x-python",
   "name": "python",
   "nbconvert_exporter": "python",
   "pygments_lexer": "ipython3",
   "version": "3.6.3"
  }
 },
 "nbformat": 4,
 "nbformat_minor": 2
}
