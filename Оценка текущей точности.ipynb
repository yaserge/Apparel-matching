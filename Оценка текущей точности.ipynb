{
 "cells": [
  {
   "cell_type": "code",
   "execution_count": 1,
   "metadata": {},
   "outputs": [
    {
     "name": "stderr",
     "output_type": "stream",
     "text": [
      "Using TensorFlow backend.\n"
     ]
    }
   ],
   "source": [
    "import numpy as np\n",
    "\n",
    "import cv2\n",
    "\n",
    "import glob\n",
    "import ntpath\n",
    "\n",
    "from matplotlib import pyplot as plt"
   ]
  },
  {
   "cell_type": "code",
   "execution_count": 2,
   "metadata": {
    "collapsed": true
   },
   "outputs": [],
   "source": [
    "from collections import Counter"
   ]
  },
  {
   "cell_type": "code",
   "execution_count": 3,
   "metadata": {
    "collapsed": true
   },
   "outputs": [],
   "source": [
    "%matplotlib notebook"
   ]
  },
  {
   "cell_type": "code",
   "execution_count": 5,
   "metadata": {
    "collapsed": true
   },
   "outputs": [],
   "source": [
    "path = r'C:/Users/mkotyushev/Documents/z/'\n",
    "apparel_type = r\"outwear/\""
   ]
  },
  {
   "cell_type": "code",
   "execution_count": null,
   "metadata": {},
   "outputs": [],
   "source": [
    "condition = [False]*5\n",
    "MIN_MATCH_COUNT = 10\n",
    "appropriate_scale = 3\n",
    "\n",
    "names_coincides = []\n",
    "photos_matches = []\n",
    "\n",
    "path = r'C:/Users/mkotyushev/Documents/z_tiny_cut/'\n",
    "kaze = cv2.KAZE_create()\n",
    "\n",
    "for filename_a in glob.glob(path + \"*.jpg\"):\n",
    "    single_name_coincides = []\n",
    "    single_photo_matches = []\n",
    "    \n",
    "    img1 = cv2.imread(filename_a, 0)\n",
    "    kp1, des1 = kaze.detectAndCompute(img1,None)\n",
    "    \n",
    "    for filename_b in glob.glob(path + \"*.jpg\"):\n",
    "        if int(ntpath.basename(filename_a).split(\"_\")[0]) == int(ntpath.basename(filename_b).split(\"_\")[0]):\n",
    "            single_name_coincides.append(\"1\")\n",
    "        else:\n",
    "            single_name_coincides.append(\"0\")\n",
    "        \n",
    "        \n",
    "        \n",
    "        img2 = cv2.imread(filename_b, 0)\n",
    "\n",
    "        kp2, des2 = kaze.detectAndCompute(img2,None)\n",
    "        bf = cv2.BFMatcher(crossCheck=True)\n",
    "        matches = bf.match(des1,des2)\n",
    "        matches = sorted(matches, key = lambda x:x.distance)\n",
    "        if len(matches) >= MIN_MATCH_COUNT:\n",
    "            src_pts = np.float32([ kp1[m.queryIdx].pt for m in matches ]).reshape(-1,1,2)\n",
    "            dst_pts = np.float32([ kp2[m.trainIdx].pt for m in matches ]).reshape(-1,1,2)\n",
    "\n",
    "            M, mask = cv2.findHomography(src_pts, dst_pts, cv2.RANSAC,3)\n",
    "            matchesMask = mask.ravel().tolist()\n",
    "\n",
    "            h,w = img1.shape\n",
    "            pts = np.float32([ [0,0],[0,h-1],[w-1,h-1],[w-1,0] ]).reshape(-1,1,2)\n",
    "            dst = cv2.perspectiveTransform(pts,M)\n",
    "\n",
    "            img2 = cv2.polylines(img2,[np.int32(dst)],True,255,3, cv2.LINE_AA)\n",
    "\n",
    "            scale_x = np.sqrt(M[0,0]**2+M[1,0]**2)\n",
    "            scale_y = np.sqrt(M[0,1]**2+M[1,1]**2)\n",
    "\n",
    "            is_enough = np.sum(mask) > 8\n",
    "            is_not_too_distorted = 0.5 < scale_x/scale_y < 2\n",
    "            is_not_too_scaled = (1/appropriate_scale < scale_x < appropriate_scale) and (1/appropriate_scale < scale_y < appropriate_scale)\n",
    "\n",
    "            if is_enough & is_not_too_distorted & is_not_too_scaled:\n",
    "                single_photo_matches.append(\"1\")\n",
    "            else:\n",
    "                single_photo_matches.append(\"0\")\n",
    "        else:\n",
    "            single_photo_matches.append(\"0\")\n",
    "    names_coincides.append(single_name_coincides)\n",
    "    photos_matches.append(single_photo_matches)\n",
    "        "
   ]
  },
  {
   "cell_type": "code",
   "execution_count": null,
   "metadata": {},
   "outputs": [],
   "source": [
    "unique, counts = np.unique(np.array(names_coincides, int)-np.array(photos_matches, int), return_counts=True)\n",
    "errors = dict(zip(unique, counts))\n",
    "unique, counts = np.unique(np.array(names_coincides, int), return_counts=True)\n",
    "real_values = dict(zip(unique, counts))\n",
    "unique, counts = np.unique(np.array(photos_matches, int), return_counts=True)\n",
    "compute = dict(zip(unique, counts))\n",
    "\n",
    "positive = compute[1] - 12\n",
    "\n",
    "negative = compute[0]\n",
    "\n",
    "false_positive =   errors[-1]\n",
    "\n",
    "true_positive = compute[1] - errors[-1] -12\n",
    "\n",
    "false_negative = errors[1]\n",
    "\n",
    "true_negative = compute[0] - errors[1]\n",
    "\n",
    "accuracy = (true_positive+true_negative)/(false_positive+false_negative+true_positive+true_negative)\n",
    "precision = (true_positive)/(false_positive+true_positive)\n",
    "recall = (true_positive)/(false_positive+false_negative)\n",
    "f1 = 2*(precision*recall)/(precision+recall)"
   ]
  },
  {
   "cell_type": "code",
   "execution_count": 178,
   "metadata": {},
   "outputs": [
    {
     "data": {
      "text/plain": [
       "0.24000000000000002"
      ]
     },
     "execution_count": 178,
     "metadata": {},
     "output_type": "execute_result"
    }
   ],
   "source": [
    "f1"
   ]
  },
  {
   "cell_type": "code",
   "execution_count": 179,
   "metadata": {},
   "outputs": [
    {
     "data": {
      "text/plain": [
       "0.76515151515151514"
      ]
     },
     "execution_count": 179,
     "metadata": {},
     "output_type": "execute_result"
    }
   ],
   "source": [
    "accuracy"
   ]
  },
  {
   "cell_type": "code",
   "execution_count": 180,
   "metadata": {},
   "outputs": [
    {
     "data": {
      "text/plain": [
       "0.19354838709677419"
      ]
     },
     "execution_count": 180,
     "metadata": {},
     "output_type": "execute_result"
    }
   ],
   "source": [
    "recall"
   ]
  },
  {
   "cell_type": "code",
   "execution_count": 181,
   "metadata": {},
   "outputs": [
    {
     "data": {
      "text/plain": [
       "0.31578947368421051"
      ]
     },
     "execution_count": 181,
     "metadata": {},
     "output_type": "execute_result"
    }
   ],
   "source": [
    "precision"
   ]
  },
  {
   "cell_type": "code",
   "execution_count": null,
   "metadata": {},
   "outputs": [],
   "source": [
    "f1"
   ]
  },
  {
   "cell_type": "code",
   "execution_count": null,
   "metadata": {},
   "outputs": [],
   "source": [
    "accuracy"
   ]
  },
  {
   "cell_type": "code",
   "execution_count": null,
   "metadata": {},
   "outputs": [],
   "source": [
    "recall"
   ]
  },
  {
   "cell_type": "code",
   "execution_count": null,
   "metadata": {},
   "outputs": [],
   "source": [
    "precision"
   ]
  },
  {
   "cell_type": "code",
   "execution_count": 158,
   "metadata": {},
   "outputs": [
    {
     "data": {
      "text/plain": [
       "array([['1', '1', '1', '0', '0', '0', '0', '0', '0', '0', '0', '0'],\n",
       "       ['1', '1', '1', '0', '0', '0', '0', '0', '0', '0', '0', '0'],\n",
       "       ['1', '1', '1', '0', '0', '0', '0', '0', '0', '0', '0', '0'],\n",
       "       ['0', '0', '0', '1', '1', '1', '0', '0', '0', '0', '0', '0'],\n",
       "       ['0', '0', '0', '1', '1', '1', '0', '0', '0', '0', '0', '0'],\n",
       "       ['0', '0', '0', '1', '1', '1', '0', '0', '0', '0', '0', '0'],\n",
       "       ['0', '0', '0', '0', '0', '0', '1', '1', '1', '0', '0', '0'],\n",
       "       ['0', '0', '0', '0', '0', '0', '1', '1', '1', '0', '0', '0'],\n",
       "       ['0', '0', '0', '0', '0', '0', '1', '1', '1', '0', '0', '0'],\n",
       "       ['0', '0', '0', '0', '0', '0', '0', '0', '0', '1', '1', '1'],\n",
       "       ['0', '0', '0', '0', '0', '0', '0', '0', '0', '1', '1', '1'],\n",
       "       ['0', '0', '0', '0', '0', '0', '0', '0', '0', '1', '1', '1']],\n",
       "      dtype='<U1')"
      ]
     },
     "execution_count": 158,
     "metadata": {},
     "output_type": "execute_result"
    }
   ],
   "source": [
    "np.array(names_coincides)"
   ]
  },
  {
   "cell_type": "code",
   "execution_count": 157,
   "metadata": {},
   "outputs": [
    {
     "data": {
      "text/plain": [
       "array([['1', '0', '0', '0', '1', '0', '0', '1', '0', '0', '1', '0'],\n",
       "       ['0', '1', '1', '0', '1', '0', '0', '0', '0', '0', '0', '1'],\n",
       "       ['0', '0', '1', '0', '0', '1', '0', '1', '0', '1', '0', '0'],\n",
       "       ['0', '1', '0', '1', '1', '1', '0', '0', '0', '1', '0', '0'],\n",
       "       ['1', '0', '0', '0', '1', '1', '0', '0', '0', '1', '0', '0'],\n",
       "       ['0', '0', '1', '1', '0', '1', '1', '1', '0', '0', '1', '0'],\n",
       "       ['1', '0', '0', '0', '0', '0', '1', '0', '0', '0', '0', '0'],\n",
       "       ['0', '1', '0', '0', '0', '0', '0', '1', '0', '0', '1', '1'],\n",
       "       ['0', '0', '0', '0', '0', '0', '0', '0', '1', '0', '0', '0'],\n",
       "       ['1', '0', '0', '0', '0', '1', '0', '0', '0', '1', '1', '0'],\n",
       "       ['0', '0', '0', '0', '0', '0', '0', '1', '0', '0', '1', '0'],\n",
       "       ['0', '0', '0', '0', '0', '0', '0', '0', '0', '1', '0', '1']],\n",
       "      dtype='<U1')"
      ]
     },
     "execution_count": 157,
     "metadata": {},
     "output_type": "execute_result"
    }
   ],
   "source": [
    "np.array(photos_matches)"
   ]
  }
 ],
 "metadata": {
  "kernelspec": {
   "display_name": "Python 3",
   "language": "python",
   "name": "python3"
  },
  "language_info": {
   "codemirror_mode": {
    "name": "ipython",
    "version": 3
   },
   "file_extension": ".py",
   "mimetype": "text/x-python",
   "name": "python",
   "nbconvert_exporter": "python",
   "pygments_lexer": "ipython3",
   "version": "3.6.3"
  }
 },
 "nbformat": 4,
 "nbformat_minor": 2
}
